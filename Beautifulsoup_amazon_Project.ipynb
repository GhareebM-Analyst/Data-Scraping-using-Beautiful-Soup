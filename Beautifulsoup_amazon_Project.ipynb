{
 "cells": [
  {
   "cell_type": "markdown",
   "id": "92b8d87b",
   "metadata": {},
   "source": [
    "## Introduction\n",
    "\n",
    "In this project, Beautiful Soup Python library was used to scrap data from Amazon website. Results of search using “multivitamin for kids”  keyword was scrapped from. The result was converted to a Pandas dataframe using pandas library and saved as csv file.\n",
    "\n",
    "Because Amazon website is a dynamic site constructed with Javascript, tools like Selenium or Splash is needed. In this project [Splash](https://splash.readthedocs.io/en/stable/index.html) was used."
   ]
  },
  {
   "cell_type": "markdown",
   "id": "a811aab4",
   "metadata": {},
   "source": [
    "## Exploring the first page"
   ]
  },
  {
   "cell_type": "code",
   "execution_count": 1,
   "id": "5d063585",
   "metadata": {},
   "outputs": [],
   "source": [
    "import requests\n",
    "import re\n",
    "from bs4 import BeautifulSoup as bs\n",
    "import pandas as pd"
   ]
  },
  {
   "cell_type": "code",
   "execution_count": 2,
   "id": "de58fac7",
   "metadata": {},
   "outputs": [],
   "source": [
    "# make sure that splash is runing through Docker\n",
    "\n",
    "serach_key = 'multivitamin for kids' ## search keyword used for product.\n",
    "\n",
    "serach_key = serach_key.replace(' ', '+')\n",
    "\n",
    "\n",
    "url = f'https://www.amazon.com/s?k={serach_key}&page={1}'\n",
    "\n",
    "r = requests.get('http://localhost:8050/render.html',params={'url':url, 'wait':4})# Splash used torender the pages\n",
    "\n",
    "soup = bs(r.text, 'html.parser')"
   ]
  },
  {
   "cell_type": "code",
   "execution_count": 3,
   "id": "46e026d2",
   "metadata": {},
   "outputs": [
    {
     "name": "stdout",
     "output_type": "stream",
     "text": [
      "<Response [200]>\n"
     ]
    }
   ],
   "source": [
    "print(r) # Ensuring the code executed successfully"
   ]
  },
  {
   "cell_type": "code",
   "execution_count": 4,
   "id": "f7e26119",
   "metadata": {
    "scrolled": true
   },
   "outputs": [
    {
     "data": {
      "text/plain": [
       "<div class=\"sg-col-4-of-24 sg-col-4-of-12 s-result-item s-asin sg-col-4-of-16 AdHolder sg-col s-widget-spacing-small sg-col-4-of-20\" data-asin=\"B0B6WQ7NK8\" data-cel-widget=\"search_result_2\" data-component-id=\"15\" data-component-type=\"s-search-result\" data-index=\"2\" data-uuid=\"bc9aa370-5cec-499d-bbd5-94e1cbd1f9d2\"><div class=\"sg-col-inner\"><div cel_widget_id=\"MAIN-SEARCH_RESULTS-2\" class=\"s-widget-container s-spacing-small s-widget-container-height-small celwidget slot=MAIN template=SEARCH_RESULTS widgetId=search-results_1\" data-cel-widget=\"MAIN-SEARCH_RESULTS-2\" data-csa-c-id=\"rejuv6-tcwk97-j96ozs-ogzajr\" data-csa-c-item-id=\"amzn1.asin.1.B0B6WQ7NK8\" data-csa-c-pos=\"1\" data-csa-c-type=\"item\" data-csa-op-log-render=\"\">\n",
       "<div class=\"rush-component s-expand-height\" data-component-props='{\"percentageShownToFire\":\"50\",\"batchable\":true,\"requiredElementSelector\":\".s-image:visible\",\"url\":\"https://unagi-na.amazon.com/1/events/com.amazon.eel.SponsoredProductsEventTracking.prod?qualifier=1675456041&amp;id=6428366384890914&amp;widgetName=sp_atf&amp;adId=200083203316098&amp;eventType=1&amp;adIndex=0\"}' data-component-type=\"s-impression-logger\">\n",
       "<div class=\"rush-component s-featured-result-item s-expand-height\" data-component-id=\"2\" data-component-props='{\"presenceCounterName\":\"sp_delivered\",\"testElementSelector\":\".s-image\",\"hiddenCounterName\":\"sp_hidden\"}' data-component-type=\"s-impression-counter\">\n",
       "<div class=\"s-card-container s-overflow-hidden aok-relative puis-expand-height puis-include-content-margin puis s-latency-cf-section s-card-border\"><div class=\"a-section a-spacing-base\"><div class=\"a-section a-spacing-none puis-status-badge-container aok-relative s-grid-status-badge-container puis-expand-height\"><span aria-label=\"Amazon's Choice\"><a class=\"a-link-normal s-underline-text s-underline-link-text s-link-style\" href=\"/gp/slredirect/picassoRedirect.html/ref=pa_sp_atf_aps_sr_pg1_1?ie=UTF8&amp;adId=A004100630XRPN7K9IQO1&amp;qualifier=1675456041&amp;id=6428366384890914&amp;widgetName=sp_atf&amp;url=%2FCentrum-Multivitamin-Gummies-Tropical-Natural%2Fdp%2FB0B6WQ7NK8%2Fref%3Dice_ac_b_dpb_sspa%3Fkeywords%3Dmultivitamin%2Bfor%2Bkids%26qid%3D1675456041%26sr%3D8-1-spons%26psc%3D1\"><span class=\"rush-component\" data-component-id=\"16\" data-component-props='{\"badgeType\":\"amazons-choice\",\"asin\":\"B0B6WQ7NK8\"}' data-component-type=\"s-status-badge-component\"><div class=\"a-row a-badge-region\"><span aria-labelledby=\"B0B6WQ7NK8-amazons-choice-label B0B6WQ7NK8-amazons-choice-supplementary\" class=\"a-badge\" data-a-badge-supplementary-position=\"right\" data-a-badge-type=\"status\" id=\"B0B6WQ7NK8-amazons-choice\" tabindex=\"0\"><span aria-hidden=\"true\" class=\"a-badge-label\" data-a-badge-color=\"sx-gulfstream\" id=\"B0B6WQ7NK8-amazons-choice-label\"><span class=\"a-badge-label-inner a-text-ellipsis\"><span class=\"a-badge-text\" data-a-badge-color=\"sx-cloud\">Amazon's </span><span class=\"a-badge-text\" data-a-badge-color=\"ac-orange\">Choice</span></span></span><span aria-hidden=\"true\" class=\"a-badge-supplementary-text a-text-ellipsis\" id=\"B0B6WQ7NK8-amazons-choice-supplementary\">for multivitamin for kids</span></span></div></span> </a> </span></div><div class=\"s-product-image-container aok-relative s-text-center s-image-overlay-grey s-padding-left-small s-padding-right-small puis-spacing-small s-height-equalized\" style=\"padding-top: 0px !important;\"><span class=\"rush-component\" data-component-id=\"17\" data-component-type=\"s-product-image\"><a class=\"a-link-normal s-no-outline\" href=\"/gp/slredirect/picassoRedirect.html/ref=pa_sp_atf_aps_sr_pg1_1?ie=UTF8&amp;adId=A004100630XRPN7K9IQO1&amp;qualifier=1675456041&amp;id=6428366384890914&amp;widgetName=sp_atf&amp;url=%2FCentrum-Multivitamin-Gummies-Tropical-Natural%2Fdp%2FB0B6WQ7NK8%2Fref%3Dsr_1_1_sspa%3Fkeywords%3Dmultivitamin%2Bfor%2Bkids%26qid%3D1675456041%26sr%3D8-1-spons%26psc%3D1\"><div class=\"a-section aok-relative s-image-square-aspect\"><img alt=\"Sponsored Ad - Centrum Kids Multivitamin Gummies, Tropical Punch Flavor Made with Natural Flavors, 150 Count, 150 Day Supp...\" class=\"s-image\" data-image-index=\"1\" data-image-latency=\"s-product-image\" data-image-load=\"\" data-image-source-density=\"1\" src=\"https://m.media-amazon.com/images/I/71FcbqefXFL._AC_UL320_.jpg\" srcset=\"https://m.media-amazon.com/images/I/71FcbqefXFL._AC_UL320_.jpg 1x, https://m.media-amazon.com/images/I/71FcbqefXFL._AC_UL480_QL65_.jpg 1.5x, https://m.media-amazon.com/images/I/71FcbqefXFL._AC_UL640_QL65_.jpg 2x, https://m.media-amazon.com/images/I/71FcbqefXFL._AC_UL800_QL65_.jpg 2.5x, https://m.media-amazon.com/images/I/71FcbqefXFL._AC_UL960_QL65_.jpg 3x\"/></div></a></span></div><div class=\"a-section a-spacing-small puis-padding-left-small puis-padding-right-small\"><div class=\"a-section a-spacing-none a-spacing-top-small s-title-instructions-style\"><div class=\"a-row a-spacing-micro\"><span class=\"a-declarative\" data-a-popover='{\"closeButton\":\"true\",\"dataStrategy\":\"preload\",\"name\":\"sp-info-popover-B0B6WQ7NK8\",\"position\":\"triggerVertical\"}' data-action=\"a-popover\" data-csa-c-func-deps=\"aui-da-a-popover\" data-csa-c-id=\"xlsjmc-xkjrh9-ocma5k-nsza3x\" data-csa-c-type=\"widget\"><a aria-label=\"View Sponsored information or leave ad feedback\" class=\"puis-label-popover puis-sponsored-label-text\" href=\"javascript:void(0)\" role=\"button\" style=\"text-decoration: none;\"><span class=\"puis-label-popover-default\"><span class=\"a-color-secondary\">Sponsored</span></span><span class=\"puis-label-popover-hover\"><span class=\"a-color-base\">Sponsored</span></span> <span class=\"aok-inline-block puis-sponsored-label-info-icon\"></span></a></span><div class=\"a-popover-preload puis\" id=\"a-popover-sp-info-popover-B0B6WQ7NK8\"><span>You’re seeing this ad based on the product’s relevance to your search query.</span><div class=\"a-row\"><span class=\"a-declarative\" data-action=\"s-safe-ajax-modal-trigger\" data-csa-c-func-deps=\"aui-da-s-safe-ajax-modal-trigger\" data-csa-c-id=\"5usj5-ac2wxq-mm6yog-uxa173\" data-csa-c-type=\"widget\" data-s-safe-ajax-modal-trigger='{\"ajaxUrl\":\"/af/sp-loom/feedback-form?pl=%7B%22adPlacementMetaData%22%3A%7B%22searchTerms%22%3A%22bXVsdGl2aXRhbWluIGZvciBraWRz%22%2C%22pageType%22%3A%22Search%22%2C%22feedbackType%22%3A%22sponsoredProductsLoom%22%2C%22slotName%22%3A%22TOP%22%7D%2C%22adCreativeMetaData%22%3A%7B%22adProgramId%22%3A1024%2C%22adCreativeDetails%22%3A%5B%7B%22asin%22%3A%22B0B6WQ7NK8%22%2C%22title%22%3A%22Centrum+Kids+Multivitamin+Gummies%2C+Tropical+Punch+Flavor+Made+with+Natural+Flavors%2C+150+Count%2C+150+D%22%2C%22priceInfo%22%3A%7B%22amount%22%3A14.28%2C%22currencyCode%22%3A%22USD%22%7D%2C%22sku%22%3A%22B0B6WQ7NK8%22%2C%22adId%22%3A%22A004100630XRPN7K9IQO1%22%2C%22campaignId%22%3A%22A0181396112ISHVA8LBZ9%22%7D%5D%7D%7D\",\"dataStrategy\":\"ajax\",\"header\":\"Share your feedback\"}'><a class=\"a-link-normal s-underline-text s-underline-link-text s-link-style\" href=\"#\"><span>Leave ad feedback</span> </a> </span></div></div></div><h2 class=\"a-size-mini a-spacing-none a-color-base s-line-clamp-3\"><a class=\"a-link-normal s-underline-text s-underline-link-text s-link-style a-text-normal\" href=\"/gp/slredirect/picassoRedirect.html/ref=pa_sp_atf_aps_sr_pg1_1?ie=UTF8&amp;adId=A004100630XRPN7K9IQO1&amp;qualifier=1675456041&amp;id=6428366384890914&amp;widgetName=sp_atf&amp;url=%2FCentrum-Multivitamin-Gummies-Tropical-Natural%2Fdp%2FB0B6WQ7NK8%2Fref%3Dsr_1_1_sspa%3Fkeywords%3Dmultivitamin%2Bfor%2Bkids%26qid%3D1675456041%26sr%3D8-1-spons%26psc%3D1\"><span class=\"a-size-base-plus a-color-base a-text-normal\">Centrum Kids Multivitamin Gummies, Tropical Punch Flavor Made with Natural Flavors, 150 Count, 150 Day Supply (Pack of 1)</span> </a> </h2><div class=\"a-row a-size-base a-color-secondary\"><div class=\"a-row\"><div class=\"a-row a-spacing-top-micro a-color-base\"><span class=\"a-size-base a-color-information a-text-bold\">150 Count</span></div></div></div></div><div class=\"a-section a-spacing-none a-spacing-top-micro\"><div class=\"a-row a-size-small\"><span aria-label=\"4.7 out of 5 stars\"><span class=\"a-declarative\" data-a-popover='{\"closeButton\":false,\"closeButtonLabel\":\"\",\"position\":\"triggerBottom\",\"popoverLabel\":\"\",\"url\":\"/review/widgets/average-customer-review/popover/ref=acr_search__popover?ie=UTF8&amp;asin=B0B6WQ7NK8&amp;ref=acr_search__popover&amp;contextId=search\"}' data-action=\"a-popover\" data-csa-c-func-deps=\"aui-da-a-popover\" data-csa-c-id=\"f2f1l6-5cny7u-ireakq-aeala2\" data-csa-c-type=\"widget\"><a class=\"a-popover-trigger a-declarative\" href=\"javascript:void(0)\" role=\"button\"><i class=\"a-icon a-icon-star-small a-star-small-4-5 aok-align-bottom\"><span class=\"a-icon-alt\">4.7 out of 5 stars</span></i><i class=\"a-icon a-icon-popover\"></i></a></span> </span><span aria-label=\"1,240\"><a class=\"a-link-normal s-underline-text s-underline-link-text s-link-style\" href=\"/gp/slredirect/picassoRedirect.html/ref=pa_sp_atf_aps_sr_pg1_1?ie=UTF8&amp;adId=A004100630XRPN7K9IQO1&amp;qualifier=1675456041&amp;id=6428366384890914&amp;widgetName=sp_atf&amp;url=%2FCentrum-Multivitamin-Gummies-Tropical-Natural%2Fdp%2FB0B6WQ7NK8%2Fref%3Dsr_1_1_sspa%3Fkeywords%3Dmultivitamin%2Bfor%2Bkids%26qid%3D1675456041%26sr%3D8-1-spons%26psc%3D1#customerReviews\"><span class=\"a-size-base s-underline-text\">1,240</span> </a> </span></div></div><div class=\"a-section a-spacing-none a-spacing-top-small s-price-instructions-style\"><div class=\"a-row a-size-base a-color-base\"><a class=\"a-size-base a-link-normal s-underline-text s-underline-link-text s-link-style a-text-normal\" href=\"/gp/slredirect/picassoRedirect.html/ref=pa_sp_atf_aps_sr_pg1_1?ie=UTF8&amp;adId=A004100630XRPN7K9IQO1&amp;qualifier=1675456041&amp;id=6428366384890914&amp;widgetName=sp_atf&amp;url=%2FCentrum-Multivitamin-Gummies-Tropical-Natural%2Fdp%2FB0B6WQ7NK8%2Fref%3Dsr_1_1_sspa%3Fkeywords%3Dmultivitamin%2Bfor%2Bkids%26qid%3D1675456041%26sr%3D8-1-spons%26psc%3D1\"><span class=\"a-price\" data-a-color=\"base\" data-a-size=\"xl\"><span class=\"a-offscreen\">$14.28</span><span aria-hidden=\"true\"><span class=\"a-price-symbol\">$</span><span class=\"a-price-whole\">14<span class=\"a-price-decimal\">.</span></span><span class=\"a-price-fraction\">28</span></span></span> <span class=\"a-size-base a-color-secondary\">($0.10/Count)</span> <span class=\"a-price a-text-price\" data-a-color=\"secondary\" data-a-size=\"b\" data-a-strike=\"true\"><span class=\"a-offscreen\">$14.97</span><span aria-hidden=\"true\">$14.97</span></span> </a> </div><div class=\"a-row a-size-base a-color-secondary\"><span>$13.57 with Subscribe &amp; Save discount</span></div></div><div class=\"a-section a-spacing-none a-spacing-top-micro\"><div class=\"a-row a-size-base a-color-secondary s-align-children-center\"><div class=\"a-row s-align-children-center\"><span class=\"aok-inline-block s-image-logo-view\"><span class=\"aok-relative s-icon-text-medium s-prime\"><i aria-label=\"Amazon Prime\" class=\"a-icon a-icon-prime a-icon-medium\" role=\"img\"></i></span><span></span></span> </div><div class=\"a-row\"><span aria-label=\"FREE delivery Thu, Feb 9 on $25 of items shipped by Amazon\"><span class=\"a-color-base\">FREE delivery </span><span class=\"a-color-base a-text-bold\">Thu, Feb 9 </span><span class=\"a-color-base\">on $25 of items shipped by Amazon</span><br/></span></div><div class=\"a-row\"><span aria-label=\"Or fastest delivery Sun, Feb 5 \"><span class=\"a-color-base\">Or fastest delivery </span><span class=\"a-color-base a-text-bold\">Sun, Feb 5 </span></span></div></div></div><div class=\"a-section a-spacing-none a-spacing-top-micro\"><div class=\"s-variations-options-justify-content\" data-csa-c-content-id=\"variation-options-link\" data-csa-c-device-env=\"WEB\" data-csa-c-device-os=\"UNRECOGNIZED\" data-csa-c-device-type=\"DESKTOP\" data-csa-c-id=\"9ldn2w-ah789d-al4142-hqc75q\" data-csa-c-type=\"element\"><span class=\"a-size-small s-variation-options-text s-variations-options-justify-content\"><div class=\"s-variation-options-options-text aok-inline-block\">Options:</div><a class=\"a-size-small a-align-top a-link-normal s-variation-options-link aok-inline-block a-nowrap\" href=\"/gp/slredirect/picassoRedirect.html/ref=pa_sp_atf_aps_sr_pg1_1?ie=UTF8&amp;adId=A004100630XRPN7K9IQO1&amp;qualifier=1675456041&amp;id=6428366384890914&amp;widgetName=sp_atf&amp;url=%2FCentrum-Multivitamin-Gummies-Tropical-Natural%2Fdp%2FB0B6WQ7NK8%2Fref%3Dsr_1_1_sspa_vo_sr_l_dp%3Fkeywords%3Dmultivitamin%2Bfor%2Bkids%26qid%3D1675456041%26sr%3D8-1-spons%26psc%3D1\" role=\"link\"><span class=\"a-truncate\" data-a-max-rows=\"1\" data-a-overflow-marker=\"&amp;hellip;\" data-a-recalculate=\"true\" data-a-word-break=\"normal\" style=\"line-height: 1.3em !important; max-height: 1.3em;\"><span class=\"a-truncate-full\">2 sizes</span><span aria-hidden=\"true\" class=\"a-truncate-cut a-hidden\"></span></span></a></span></div></div></div></div></div>\n",
       "</div>\n",
       "</div>\n",
       "</div></div></div>"
      ]
     },
     "execution_count": 4,
     "metadata": {},
     "output_type": "execute_result"
    }
   ],
   "source": [
    "# Printing first item in the data\n",
    "products= soup.findAll('div', {'data-component-type' : re.compile(\"s-search-result\")})\n",
    "products[0]"
   ]
  },
  {
   "cell_type": "code",
   "execution_count": 5,
   "id": "26de549a",
   "metadata": {},
   "outputs": [
    {
     "data": {
      "text/plain": [
       "60"
      ]
     },
     "execution_count": 5,
     "metadata": {},
     "output_type": "execute_result"
    }
   ],
   "source": [
    "# Number of products in first page.\n",
    "len(products)"
   ]
  },
  {
   "cell_type": "markdown",
   "id": "8d773dcc",
   "metadata": {},
   "source": [
    "## Pagination \n",
    "Collecting all search result data from differen pages."
   ]
  },
  {
   "cell_type": "code",
   "execution_count": 6,
   "id": "9f3717dd",
   "metadata": {},
   "outputs": [
    {
     "name": "stdout",
     "output_type": "stream",
     "text": [
      "https://www.amazon.com/s?k=fmultivitamin+for+kids&page=1\n",
      "https://www.amazon.com/s?k=fmultivitamin+for+kids&page=2\n",
      "https://www.amazon.com/s?k=fmultivitamin+for+kids&page=3\n",
      "https://www.amazon.com/s?k=fmultivitamin+for+kids&page=4\n",
      "https://www.amazon.com/s?k=fmultivitamin+for+kids&page=5\n",
      "https://www.amazon.com/s?k=fmultivitamin+for+kids&page=6\n",
      "https://www.amazon.com/s?k=fmultivitamin+for+kids&page=7\n"
     ]
    }
   ],
   "source": [
    "\n",
    "serach_key = 'multivitamin for kids'\n",
    "\n",
    "serach_key = serach_key.replace(' ', '+').strip()\n",
    "\n",
    "results_list = []\n",
    "\n",
    "\n",
    "\n",
    "for x in range(1,10):\n",
    "\n",
    "    url = f'https://www.amazon.com/s?k=f{serach_key}&page={x}'\n",
    "\n",
    "    print(url)\n",
    "    \n",
    "    \n",
    "    r = requests.get('http://localhost:8050/render.html',params={'url':url, 'wait':4})\n",
    "\n",
    "    soup = bs(r.text, 'html.parser')\n",
    "    \n",
    "    links_href = soup.find('span', class_= re.compile('s-pagination-strip'))\n",
    "    \n",
    "    if not links_href.find('span', class_ =  re.compile('s-pagination-item s-pagination-next s-pagination-disabled')):\n",
    "        pass\n",
    "    else:\n",
    "        break\n",
    "    \n",
    "    for item in soup.findAll('div', {'data-component-type' : re.compile(\"s-search-result\")}):\n",
    "        \n",
    "        description = item.find('span', class_= re.compile('a-size-base-plus a-color-base a-text-normal'))\n",
    "\n",
    "        try:\n",
    "            number_rates = item.find('span', class_= re.compile('a-size-base.s-underline-text')).text\n",
    "        except: number_rates = 0\n",
    "\n",
    "        try:\n",
    "            rating = item.find('span', class_= re.compile('a-icon-alt')).string.split()[0]\n",
    "        except: \n",
    "            rating = 0\n",
    "\n",
    "        try:\n",
    "            price = item.find('span', class_='a-offscreen').text.replace('$','')\n",
    "        except:\n",
    "             price = 'none'\n",
    "\n",
    "        link= item.find('a').attrs['href']\n",
    "        url = 'https://www.amazon.com' + link\n",
    "\n",
    "        product = {\n",
    "            'description': description,\n",
    "            'number_rates': number_rates,\n",
    "            'rating' : rating,\n",
    "            'price' : price,\n",
    "            'url' : url     \n",
    "        }\n",
    "\n",
    "        results_list.append(product)\n",
    "\n",
    "    \n"
   ]
  },
  {
   "cell_type": "code",
   "execution_count": 7,
   "id": "1faf4ebb",
   "metadata": {},
   "outputs": [
    {
     "name": "stdout",
     "output_type": "stream",
     "text": [
      "360\n"
     ]
    }
   ],
   "source": [
    "## Total number of products\n",
    "print(len(results_list))"
   ]
  },
  {
   "cell_type": "code",
   "execution_count": 8,
   "id": "22b5634f",
   "metadata": {},
   "outputs": [
    {
     "data": {
      "text/html": [
       "<div>\n",
       "<style scoped>\n",
       "    .dataframe tbody tr th:only-of-type {\n",
       "        vertical-align: middle;\n",
       "    }\n",
       "\n",
       "    .dataframe tbody tr th {\n",
       "        vertical-align: top;\n",
       "    }\n",
       "\n",
       "    .dataframe thead th {\n",
       "        text-align: right;\n",
       "    }\n",
       "</style>\n",
       "<table border=\"1\" class=\"dataframe\">\n",
       "  <thead>\n",
       "    <tr style=\"text-align: right;\">\n",
       "      <th></th>\n",
       "      <th>description</th>\n",
       "      <th>number_rates</th>\n",
       "      <th>rating</th>\n",
       "      <th>price</th>\n",
       "      <th>url</th>\n",
       "    </tr>\n",
       "  </thead>\n",
       "  <tbody>\n",
       "    <tr>\n",
       "      <th>0</th>\n",
       "      <td>[Amazon Brand - Solimo Kids' Multivitamin, 380...</td>\n",
       "      <td>(1,300)</td>\n",
       "      <td>4.8</td>\n",
       "      <td>11.88</td>\n",
       "      <td>https://www.amazon.com/gp/slredirect/picassoRe...</td>\n",
       "    </tr>\n",
       "    <tr>\n",
       "      <th>1</th>\n",
       "      <td>[Centrum Kids Multivitamin Gummies, Tropical P...</td>\n",
       "      <td>(1,240)</td>\n",
       "      <td>4.7</td>\n",
       "      <td>14.28</td>\n",
       "      <td>https://www.amazon.com/gp/slredirect/picassoRe...</td>\n",
       "    </tr>\n",
       "    <tr>\n",
       "      <th>2</th>\n",
       "      <td>[Renzo's Picky Eater Kids Multivitamin - Vegan...</td>\n",
       "      <td>(4,030)</td>\n",
       "      <td>4.3</td>\n",
       "      <td>25.99</td>\n",
       "      <td>https://www.amazon.com/gp/slredirect/picassoRe...</td>\n",
       "    </tr>\n",
       "    <tr>\n",
       "      <th>3</th>\n",
       "      <td>[Flintstones Kids Elderberry Gummies with Immu...</td>\n",
       "      <td>(807)</td>\n",
       "      <td>4.7</td>\n",
       "      <td>13.43</td>\n",
       "      <td>https://www.amazon.com/gp/slredirect/picassoRe...</td>\n",
       "    </tr>\n",
       "    <tr>\n",
       "      <th>4</th>\n",
       "      <td>[OLLY Kids Multivitamin + Probiotic Gummy, Dig...</td>\n",
       "      <td>(13,553)</td>\n",
       "      <td>4.7</td>\n",
       "      <td>11.99</td>\n",
       "      <td>https://www.amazon.com/gp/bestsellers/hpc/3765...</td>\n",
       "    </tr>\n",
       "  </tbody>\n",
       "</table>\n",
       "</div>"
      ],
      "text/plain": [
       "                                         description number_rates rating  \\\n",
       "0  [Amazon Brand - Solimo Kids' Multivitamin, 380...      (1,300)    4.8   \n",
       "1  [Centrum Kids Multivitamin Gummies, Tropical P...      (1,240)    4.7   \n",
       "2  [Renzo's Picky Eater Kids Multivitamin - Vegan...      (4,030)    4.3   \n",
       "3  [Flintstones Kids Elderberry Gummies with Immu...        (807)    4.7   \n",
       "4  [OLLY Kids Multivitamin + Probiotic Gummy, Dig...     (13,553)    4.7   \n",
       "\n",
       "   price                                                url  \n",
       "0  11.88  https://www.amazon.com/gp/slredirect/picassoRe...  \n",
       "1  14.28  https://www.amazon.com/gp/slredirect/picassoRe...  \n",
       "2  25.99  https://www.amazon.com/gp/slredirect/picassoRe...  \n",
       "3  13.43  https://www.amazon.com/gp/slredirect/picassoRe...  \n",
       "4  11.99  https://www.amazon.com/gp/bestsellers/hpc/3765...  "
      ]
     },
     "execution_count": 8,
     "metadata": {},
     "output_type": "execute_result"
    }
   ],
   "source": [
    "## to make pandas dataframe\n",
    "df = pd.DataFrame(results_list) \n",
    "df.head()"
   ]
  },
  {
   "cell_type": "markdown",
   "id": "374686f9",
   "metadata": {},
   "source": [
    "## Saving dataset "
   ]
  },
  {
   "cell_type": "code",
   "execution_count": 9,
   "id": "99b08e27",
   "metadata": {},
   "outputs": [],
   "source": [
    "## to save data in a csv file.\n",
    "df.to_csv('Multivitamines_kids.csv')"
   ]
  },
  {
   "cell_type": "code",
   "execution_count": null,
   "id": "9f899d68",
   "metadata": {},
   "outputs": [],
   "source": []
  }
 ],
 "metadata": {
  "kernelspec": {
   "display_name": "Python 3 (ipykernel)",
   "language": "python",
   "name": "python3"
  },
  "language_info": {
   "codemirror_mode": {
    "name": "ipython",
    "version": 3
   },
   "file_extension": ".py",
   "mimetype": "text/x-python",
   "name": "python",
   "nbconvert_exporter": "python",
   "pygments_lexer": "ipython3",
   "version": "3.9.12"
  },
  "toc": {
   "base_numbering": 1,
   "nav_menu": {},
   "number_sections": true,
   "sideBar": true,
   "skip_h1_title": false,
   "title_cell": "Table of Contents",
   "title_sidebar": "Contents",
   "toc_cell": false,
   "toc_position": {},
   "toc_section_display": true,
   "toc_window_display": false
  }
 },
 "nbformat": 4,
 "nbformat_minor": 5
}
